{
  "nbformat": 4,
  "nbformat_minor": 0,
  "metadata": {
    "colab": {
      "name": "IVFFlatEval.ipynb",
      "provenance": [],
      "toc_visible": true
    },
    "kernelspec": {
      "name": "python3",
      "display_name": "Python 3"
    },
    "language_info": {
      "name": "python"
    },
    "widgets": {
      "application/vnd.jupyter.widget-state+json": {
        "82afa6c90b83412892f89f8bcb65a42e": {
          "model_module": "@jupyter-widgets/controls",
          "model_name": "HBoxModel",
          "state": {
            "_view_name": "HBoxView",
            "_dom_classes": [],
            "_model_name": "HBoxModel",
            "_view_module": "@jupyter-widgets/controls",
            "_model_module_version": "1.5.0",
            "_view_count": null,
            "_view_module_version": "1.5.0",
            "box_style": "",
            "layout": "IPY_MODEL_c35227073cea4015b792e3a6df788be3",
            "_model_module": "@jupyter-widgets/controls",
            "children": [
              "IPY_MODEL_920f6267c93440b6b2829fe42cc470af",
              "IPY_MODEL_06a7be9a1f3e4fc5b3625c07db3d6630"
            ]
          }
        },
        "c35227073cea4015b792e3a6df788be3": {
          "model_module": "@jupyter-widgets/base",
          "model_name": "LayoutModel",
          "state": {
            "_view_name": "LayoutView",
            "grid_template_rows": null,
            "right": null,
            "justify_content": null,
            "_view_module": "@jupyter-widgets/base",
            "overflow": null,
            "_model_module_version": "1.2.0",
            "_view_count": null,
            "flex_flow": null,
            "width": null,
            "min_width": null,
            "border": null,
            "align_items": null,
            "bottom": null,
            "_model_module": "@jupyter-widgets/base",
            "top": null,
            "grid_column": null,
            "overflow_y": null,
            "overflow_x": null,
            "grid_auto_flow": null,
            "grid_area": null,
            "grid_template_columns": null,
            "flex": null,
            "_model_name": "LayoutModel",
            "justify_items": null,
            "grid_row": null,
            "max_height": null,
            "align_content": null,
            "visibility": null,
            "align_self": null,
            "height": null,
            "min_height": null,
            "padding": null,
            "grid_auto_rows": null,
            "grid_gap": null,
            "max_width": null,
            "order": null,
            "_view_module_version": "1.2.0",
            "grid_template_areas": null,
            "object_position": null,
            "object_fit": null,
            "grid_auto_columns": null,
            "margin": null,
            "display": null,
            "left": null
          }
        },
        "920f6267c93440b6b2829fe42cc470af": {
          "model_module": "@jupyter-widgets/controls",
          "model_name": "FloatProgressModel",
          "state": {
            "_view_name": "ProgressView",
            "style": "IPY_MODEL_ed00a44a93a44e189727dd076a4bfb72",
            "_dom_classes": [],
            "description": "100%",
            "_model_name": "FloatProgressModel",
            "bar_style": "success",
            "max": 10,
            "_view_module": "@jupyter-widgets/controls",
            "_model_module_version": "1.5.0",
            "value": 10,
            "_view_count": null,
            "_view_module_version": "1.5.0",
            "orientation": "horizontal",
            "min": 0,
            "description_tooltip": null,
            "_model_module": "@jupyter-widgets/controls",
            "layout": "IPY_MODEL_8a639173c7a34ad19213904e4e73b996"
          }
        },
        "06a7be9a1f3e4fc5b3625c07db3d6630": {
          "model_module": "@jupyter-widgets/controls",
          "model_name": "HTMLModel",
          "state": {
            "_view_name": "HTMLView",
            "style": "IPY_MODEL_e532b0f5bf6a41db84c1b46fde9f9c19",
            "_dom_classes": [],
            "description": "",
            "_model_name": "HTMLModel",
            "placeholder": "​",
            "_view_module": "@jupyter-widgets/controls",
            "_model_module_version": "1.5.0",
            "value": " 10/10 [30:21&lt;00:00, 182.10s/it]",
            "_view_count": null,
            "_view_module_version": "1.5.0",
            "description_tooltip": null,
            "_model_module": "@jupyter-widgets/controls",
            "layout": "IPY_MODEL_fe2b2bce0a7d47989efd30ade66b04cd"
          }
        },
        "ed00a44a93a44e189727dd076a4bfb72": {
          "model_module": "@jupyter-widgets/controls",
          "model_name": "ProgressStyleModel",
          "state": {
            "_view_name": "StyleView",
            "_model_name": "ProgressStyleModel",
            "description_width": "initial",
            "_view_module": "@jupyter-widgets/base",
            "_model_module_version": "1.5.0",
            "_view_count": null,
            "_view_module_version": "1.2.0",
            "bar_color": null,
            "_model_module": "@jupyter-widgets/controls"
          }
        },
        "8a639173c7a34ad19213904e4e73b996": {
          "model_module": "@jupyter-widgets/base",
          "model_name": "LayoutModel",
          "state": {
            "_view_name": "LayoutView",
            "grid_template_rows": null,
            "right": null,
            "justify_content": null,
            "_view_module": "@jupyter-widgets/base",
            "overflow": null,
            "_model_module_version": "1.2.0",
            "_view_count": null,
            "flex_flow": null,
            "width": null,
            "min_width": null,
            "border": null,
            "align_items": null,
            "bottom": null,
            "_model_module": "@jupyter-widgets/base",
            "top": null,
            "grid_column": null,
            "overflow_y": null,
            "overflow_x": null,
            "grid_auto_flow": null,
            "grid_area": null,
            "grid_template_columns": null,
            "flex": null,
            "_model_name": "LayoutModel",
            "justify_items": null,
            "grid_row": null,
            "max_height": null,
            "align_content": null,
            "visibility": null,
            "align_self": null,
            "height": null,
            "min_height": null,
            "padding": null,
            "grid_auto_rows": null,
            "grid_gap": null,
            "max_width": null,
            "order": null,
            "_view_module_version": "1.2.0",
            "grid_template_areas": null,
            "object_position": null,
            "object_fit": null,
            "grid_auto_columns": null,
            "margin": null,
            "display": null,
            "left": null
          }
        },
        "e532b0f5bf6a41db84c1b46fde9f9c19": {
          "model_module": "@jupyter-widgets/controls",
          "model_name": "DescriptionStyleModel",
          "state": {
            "_view_name": "StyleView",
            "_model_name": "DescriptionStyleModel",
            "description_width": "",
            "_view_module": "@jupyter-widgets/base",
            "_model_module_version": "1.5.0",
            "_view_count": null,
            "_view_module_version": "1.2.0",
            "_model_module": "@jupyter-widgets/controls"
          }
        },
        "fe2b2bce0a7d47989efd30ade66b04cd": {
          "model_module": "@jupyter-widgets/base",
          "model_name": "LayoutModel",
          "state": {
            "_view_name": "LayoutView",
            "grid_template_rows": null,
            "right": null,
            "justify_content": null,
            "_view_module": "@jupyter-widgets/base",
            "overflow": null,
            "_model_module_version": "1.2.0",
            "_view_count": null,
            "flex_flow": null,
            "width": null,
            "min_width": null,
            "border": null,
            "align_items": null,
            "bottom": null,
            "_model_module": "@jupyter-widgets/base",
            "top": null,
            "grid_column": null,
            "overflow_y": null,
            "overflow_x": null,
            "grid_auto_flow": null,
            "grid_area": null,
            "grid_template_columns": null,
            "flex": null,
            "_model_name": "LayoutModel",
            "justify_items": null,
            "grid_row": null,
            "max_height": null,
            "align_content": null,
            "visibility": null,
            "align_self": null,
            "height": null,
            "min_height": null,
            "padding": null,
            "grid_auto_rows": null,
            "grid_gap": null,
            "max_width": null,
            "order": null,
            "_view_module_version": "1.2.0",
            "grid_template_areas": null,
            "object_position": null,
            "object_fit": null,
            "grid_auto_columns": null,
            "margin": null,
            "display": null,
            "left": null
          }
        },
        "479cad68d98949f8a96212b5b19346de": {
          "model_module": "@jupyter-widgets/controls",
          "model_name": "HBoxModel",
          "state": {
            "_view_name": "HBoxView",
            "_dom_classes": [],
            "_model_name": "HBoxModel",
            "_view_module": "@jupyter-widgets/controls",
            "_model_module_version": "1.5.0",
            "_view_count": null,
            "_view_module_version": "1.5.0",
            "box_style": "",
            "layout": "IPY_MODEL_4068da9744724f2e8f68843265c7af3e",
            "_model_module": "@jupyter-widgets/controls",
            "children": [
              "IPY_MODEL_a287509e102f4ae190a6a73e186d357d",
              "IPY_MODEL_cceedf74b6a8498e821858910af82131"
            ]
          }
        },
        "4068da9744724f2e8f68843265c7af3e": {
          "model_module": "@jupyter-widgets/base",
          "model_name": "LayoutModel",
          "state": {
            "_view_name": "LayoutView",
            "grid_template_rows": null,
            "right": null,
            "justify_content": null,
            "_view_module": "@jupyter-widgets/base",
            "overflow": null,
            "_model_module_version": "1.2.0",
            "_view_count": null,
            "flex_flow": null,
            "width": null,
            "min_width": null,
            "border": null,
            "align_items": null,
            "bottom": null,
            "_model_module": "@jupyter-widgets/base",
            "top": null,
            "grid_column": null,
            "overflow_y": null,
            "overflow_x": null,
            "grid_auto_flow": null,
            "grid_area": null,
            "grid_template_columns": null,
            "flex": null,
            "_model_name": "LayoutModel",
            "justify_items": null,
            "grid_row": null,
            "max_height": null,
            "align_content": null,
            "visibility": null,
            "align_self": null,
            "height": null,
            "min_height": null,
            "padding": null,
            "grid_auto_rows": null,
            "grid_gap": null,
            "max_width": null,
            "order": null,
            "_view_module_version": "1.2.0",
            "grid_template_areas": null,
            "object_position": null,
            "object_fit": null,
            "grid_auto_columns": null,
            "margin": null,
            "display": null,
            "left": null
          }
        },
        "a287509e102f4ae190a6a73e186d357d": {
          "model_module": "@jupyter-widgets/controls",
          "model_name": "FloatProgressModel",
          "state": {
            "_view_name": "ProgressView",
            "style": "IPY_MODEL_34d8d670bf7241fbbfcf723c39c38dfb",
            "_dom_classes": [],
            "description": "100%",
            "_model_name": "FloatProgressModel",
            "bar_style": "success",
            "max": 10,
            "_view_module": "@jupyter-widgets/controls",
            "_model_module_version": "1.5.0",
            "value": 10,
            "_view_count": null,
            "_view_module_version": "1.5.0",
            "orientation": "horizontal",
            "min": 0,
            "description_tooltip": null,
            "_model_module": "@jupyter-widgets/controls",
            "layout": "IPY_MODEL_179e270564f842f699ee259f2baf1e38"
          }
        },
        "cceedf74b6a8498e821858910af82131": {
          "model_module": "@jupyter-widgets/controls",
          "model_name": "HTMLModel",
          "state": {
            "_view_name": "HTMLView",
            "style": "IPY_MODEL_798184c634ca4a79b2b8eabde778a80c",
            "_dom_classes": [],
            "description": "",
            "_model_name": "HTMLModel",
            "placeholder": "​",
            "_view_module": "@jupyter-widgets/controls",
            "_model_module_version": "1.5.0",
            "value": " 10/10 [12:49&lt;00:00, 76.94s/it]",
            "_view_count": null,
            "_view_module_version": "1.5.0",
            "description_tooltip": null,
            "_model_module": "@jupyter-widgets/controls",
            "layout": "IPY_MODEL_483fad1ce0124209a94575812030ee94"
          }
        },
        "34d8d670bf7241fbbfcf723c39c38dfb": {
          "model_module": "@jupyter-widgets/controls",
          "model_name": "ProgressStyleModel",
          "state": {
            "_view_name": "StyleView",
            "_model_name": "ProgressStyleModel",
            "description_width": "initial",
            "_view_module": "@jupyter-widgets/base",
            "_model_module_version": "1.5.0",
            "_view_count": null,
            "_view_module_version": "1.2.0",
            "bar_color": null,
            "_model_module": "@jupyter-widgets/controls"
          }
        },
        "179e270564f842f699ee259f2baf1e38": {
          "model_module": "@jupyter-widgets/base",
          "model_name": "LayoutModel",
          "state": {
            "_view_name": "LayoutView",
            "grid_template_rows": null,
            "right": null,
            "justify_content": null,
            "_view_module": "@jupyter-widgets/base",
            "overflow": null,
            "_model_module_version": "1.2.0",
            "_view_count": null,
            "flex_flow": null,
            "width": null,
            "min_width": null,
            "border": null,
            "align_items": null,
            "bottom": null,
            "_model_module": "@jupyter-widgets/base",
            "top": null,
            "grid_column": null,
            "overflow_y": null,
            "overflow_x": null,
            "grid_auto_flow": null,
            "grid_area": null,
            "grid_template_columns": null,
            "flex": null,
            "_model_name": "LayoutModel",
            "justify_items": null,
            "grid_row": null,
            "max_height": null,
            "align_content": null,
            "visibility": null,
            "align_self": null,
            "height": null,
            "min_height": null,
            "padding": null,
            "grid_auto_rows": null,
            "grid_gap": null,
            "max_width": null,
            "order": null,
            "_view_module_version": "1.2.0",
            "grid_template_areas": null,
            "object_position": null,
            "object_fit": null,
            "grid_auto_columns": null,
            "margin": null,
            "display": null,
            "left": null
          }
        },
        "798184c634ca4a79b2b8eabde778a80c": {
          "model_module": "@jupyter-widgets/controls",
          "model_name": "DescriptionStyleModel",
          "state": {
            "_view_name": "StyleView",
            "_model_name": "DescriptionStyleModel",
            "description_width": "",
            "_view_module": "@jupyter-widgets/base",
            "_model_module_version": "1.5.0",
            "_view_count": null,
            "_view_module_version": "1.2.0",
            "_model_module": "@jupyter-widgets/controls"
          }
        },
        "483fad1ce0124209a94575812030ee94": {
          "model_module": "@jupyter-widgets/base",
          "model_name": "LayoutModel",
          "state": {
            "_view_name": "LayoutView",
            "grid_template_rows": null,
            "right": null,
            "justify_content": null,
            "_view_module": "@jupyter-widgets/base",
            "overflow": null,
            "_model_module_version": "1.2.0",
            "_view_count": null,
            "flex_flow": null,
            "width": null,
            "min_width": null,
            "border": null,
            "align_items": null,
            "bottom": null,
            "_model_module": "@jupyter-widgets/base",
            "top": null,
            "grid_column": null,
            "overflow_y": null,
            "overflow_x": null,
            "grid_auto_flow": null,
            "grid_area": null,
            "grid_template_columns": null,
            "flex": null,
            "_model_name": "LayoutModel",
            "justify_items": null,
            "grid_row": null,
            "max_height": null,
            "align_content": null,
            "visibility": null,
            "align_self": null,
            "height": null,
            "min_height": null,
            "padding": null,
            "grid_auto_rows": null,
            "grid_gap": null,
            "max_width": null,
            "order": null,
            "_view_module_version": "1.2.0",
            "grid_template_areas": null,
            "object_position": null,
            "object_fit": null,
            "grid_auto_columns": null,
            "margin": null,
            "display": null,
            "left": null
          }
        },
        "4fcbe670e9e74f68aecc7c6a1d00ba7f": {
          "model_module": "@jupyter-widgets/controls",
          "model_name": "HBoxModel",
          "state": {
            "_view_name": "HBoxView",
            "_dom_classes": [],
            "_model_name": "HBoxModel",
            "_view_module": "@jupyter-widgets/controls",
            "_model_module_version": "1.5.0",
            "_view_count": null,
            "_view_module_version": "1.5.0",
            "box_style": "",
            "layout": "IPY_MODEL_c54646fe94484378a61fe2c17a8fbcf9",
            "_model_module": "@jupyter-widgets/controls",
            "children": [
              "IPY_MODEL_7437c5d153e0409f9ac54e9ea51e6760",
              "IPY_MODEL_8c81b0e39cf2478a807f6694cb097336"
            ]
          }
        },
        "c54646fe94484378a61fe2c17a8fbcf9": {
          "model_module": "@jupyter-widgets/base",
          "model_name": "LayoutModel",
          "state": {
            "_view_name": "LayoutView",
            "grid_template_rows": null,
            "right": null,
            "justify_content": null,
            "_view_module": "@jupyter-widgets/base",
            "overflow": null,
            "_model_module_version": "1.2.0",
            "_view_count": null,
            "flex_flow": null,
            "width": null,
            "min_width": null,
            "border": null,
            "align_items": null,
            "bottom": null,
            "_model_module": "@jupyter-widgets/base",
            "top": null,
            "grid_column": null,
            "overflow_y": null,
            "overflow_x": null,
            "grid_auto_flow": null,
            "grid_area": null,
            "grid_template_columns": null,
            "flex": null,
            "_model_name": "LayoutModel",
            "justify_items": null,
            "grid_row": null,
            "max_height": null,
            "align_content": null,
            "visibility": null,
            "align_self": null,
            "height": null,
            "min_height": null,
            "padding": null,
            "grid_auto_rows": null,
            "grid_gap": null,
            "max_width": null,
            "order": null,
            "_view_module_version": "1.2.0",
            "grid_template_areas": null,
            "object_position": null,
            "object_fit": null,
            "grid_auto_columns": null,
            "margin": null,
            "display": null,
            "left": null
          }
        },
        "7437c5d153e0409f9ac54e9ea51e6760": {
          "model_module": "@jupyter-widgets/controls",
          "model_name": "FloatProgressModel",
          "state": {
            "_view_name": "ProgressView",
            "style": "IPY_MODEL_58aa3edf483246ec8899c12029b5c798",
            "_dom_classes": [],
            "description": "100%",
            "_model_name": "FloatProgressModel",
            "bar_style": "success",
            "max": 10,
            "_view_module": "@jupyter-widgets/controls",
            "_model_module_version": "1.5.0",
            "value": 10,
            "_view_count": null,
            "_view_module_version": "1.5.0",
            "orientation": "horizontal",
            "min": 0,
            "description_tooltip": null,
            "_model_module": "@jupyter-widgets/controls",
            "layout": "IPY_MODEL_98f9fcac921f46f79784d548d71be2da"
          }
        },
        "8c81b0e39cf2478a807f6694cb097336": {
          "model_module": "@jupyter-widgets/controls",
          "model_name": "HTMLModel",
          "state": {
            "_view_name": "HTMLView",
            "style": "IPY_MODEL_09e28ab9ed944b33adcf952adc75fe31",
            "_dom_classes": [],
            "description": "",
            "_model_name": "HTMLModel",
            "placeholder": "​",
            "_view_module": "@jupyter-widgets/controls",
            "_model_module_version": "1.5.0",
            "value": " 10/10 [41:04&lt;00:00, 246.48s/it]",
            "_view_count": null,
            "_view_module_version": "1.5.0",
            "description_tooltip": null,
            "_model_module": "@jupyter-widgets/controls",
            "layout": "IPY_MODEL_7c3846d3284d4be7ad935667598870e4"
          }
        },
        "58aa3edf483246ec8899c12029b5c798": {
          "model_module": "@jupyter-widgets/controls",
          "model_name": "ProgressStyleModel",
          "state": {
            "_view_name": "StyleView",
            "_model_name": "ProgressStyleModel",
            "description_width": "initial",
            "_view_module": "@jupyter-widgets/base",
            "_model_module_version": "1.5.0",
            "_view_count": null,
            "_view_module_version": "1.2.0",
            "bar_color": null,
            "_model_module": "@jupyter-widgets/controls"
          }
        },
        "98f9fcac921f46f79784d548d71be2da": {
          "model_module": "@jupyter-widgets/base",
          "model_name": "LayoutModel",
          "state": {
            "_view_name": "LayoutView",
            "grid_template_rows": null,
            "right": null,
            "justify_content": null,
            "_view_module": "@jupyter-widgets/base",
            "overflow": null,
            "_model_module_version": "1.2.0",
            "_view_count": null,
            "flex_flow": null,
            "width": null,
            "min_width": null,
            "border": null,
            "align_items": null,
            "bottom": null,
            "_model_module": "@jupyter-widgets/base",
            "top": null,
            "grid_column": null,
            "overflow_y": null,
            "overflow_x": null,
            "grid_auto_flow": null,
            "grid_area": null,
            "grid_template_columns": null,
            "flex": null,
            "_model_name": "LayoutModel",
            "justify_items": null,
            "grid_row": null,
            "max_height": null,
            "align_content": null,
            "visibility": null,
            "align_self": null,
            "height": null,
            "min_height": null,
            "padding": null,
            "grid_auto_rows": null,
            "grid_gap": null,
            "max_width": null,
            "order": null,
            "_view_module_version": "1.2.0",
            "grid_template_areas": null,
            "object_position": null,
            "object_fit": null,
            "grid_auto_columns": null,
            "margin": null,
            "display": null,
            "left": null
          }
        },
        "09e28ab9ed944b33adcf952adc75fe31": {
          "model_module": "@jupyter-widgets/controls",
          "model_name": "DescriptionStyleModel",
          "state": {
            "_view_name": "StyleView",
            "_model_name": "DescriptionStyleModel",
            "description_width": "",
            "_view_module": "@jupyter-widgets/base",
            "_model_module_version": "1.5.0",
            "_view_count": null,
            "_view_module_version": "1.2.0",
            "_model_module": "@jupyter-widgets/controls"
          }
        },
        "7c3846d3284d4be7ad935667598870e4": {
          "model_module": "@jupyter-widgets/base",
          "model_name": "LayoutModel",
          "state": {
            "_view_name": "LayoutView",
            "grid_template_rows": null,
            "right": null,
            "justify_content": null,
            "_view_module": "@jupyter-widgets/base",
            "overflow": null,
            "_model_module_version": "1.2.0",
            "_view_count": null,
            "flex_flow": null,
            "width": null,
            "min_width": null,
            "border": null,
            "align_items": null,
            "bottom": null,
            "_model_module": "@jupyter-widgets/base",
            "top": null,
            "grid_column": null,
            "overflow_y": null,
            "overflow_x": null,
            "grid_auto_flow": null,
            "grid_area": null,
            "grid_template_columns": null,
            "flex": null,
            "_model_name": "LayoutModel",
            "justify_items": null,
            "grid_row": null,
            "max_height": null,
            "align_content": null,
            "visibility": null,
            "align_self": null,
            "height": null,
            "min_height": null,
            "padding": null,
            "grid_auto_rows": null,
            "grid_gap": null,
            "max_width": null,
            "order": null,
            "_view_module_version": "1.2.0",
            "grid_template_areas": null,
            "object_position": null,
            "object_fit": null,
            "grid_auto_columns": null,
            "margin": null,
            "display": null,
            "left": null
          }
        },
        "aab06f13bc05439c811d90b40fb15be0": {
          "model_module": "@jupyter-widgets/controls",
          "model_name": "HBoxModel",
          "state": {
            "_view_name": "HBoxView",
            "_dom_classes": [],
            "_model_name": "HBoxModel",
            "_view_module": "@jupyter-widgets/controls",
            "_model_module_version": "1.5.0",
            "_view_count": null,
            "_view_module_version": "1.5.0",
            "box_style": "",
            "layout": "IPY_MODEL_a27aaea86bbe4f49821a43ae23ce5dfa",
            "_model_module": "@jupyter-widgets/controls",
            "children": [
              "IPY_MODEL_fca0d2564bae4fcca620b50b5cdc30ac",
              "IPY_MODEL_8f61aa968a134ae3820f22d5dc2553d7"
            ]
          }
        },
        "a27aaea86bbe4f49821a43ae23ce5dfa": {
          "model_module": "@jupyter-widgets/base",
          "model_name": "LayoutModel",
          "state": {
            "_view_name": "LayoutView",
            "grid_template_rows": null,
            "right": null,
            "justify_content": null,
            "_view_module": "@jupyter-widgets/base",
            "overflow": null,
            "_model_module_version": "1.2.0",
            "_view_count": null,
            "flex_flow": null,
            "width": null,
            "min_width": null,
            "border": null,
            "align_items": null,
            "bottom": null,
            "_model_module": "@jupyter-widgets/base",
            "top": null,
            "grid_column": null,
            "overflow_y": null,
            "overflow_x": null,
            "grid_auto_flow": null,
            "grid_area": null,
            "grid_template_columns": null,
            "flex": null,
            "_model_name": "LayoutModel",
            "justify_items": null,
            "grid_row": null,
            "max_height": null,
            "align_content": null,
            "visibility": null,
            "align_self": null,
            "height": null,
            "min_height": null,
            "padding": null,
            "grid_auto_rows": null,
            "grid_gap": null,
            "max_width": null,
            "order": null,
            "_view_module_version": "1.2.0",
            "grid_template_areas": null,
            "object_position": null,
            "object_fit": null,
            "grid_auto_columns": null,
            "margin": null,
            "display": null,
            "left": null
          }
        },
        "fca0d2564bae4fcca620b50b5cdc30ac": {
          "model_module": "@jupyter-widgets/controls",
          "model_name": "FloatProgressModel",
          "state": {
            "_view_name": "ProgressView",
            "style": "IPY_MODEL_09fa3ba7587a4b6c98e00c1cac0ce0e3",
            "_dom_classes": [],
            "description": "100%",
            "_model_name": "FloatProgressModel",
            "bar_style": "success",
            "max": 10,
            "_view_module": "@jupyter-widgets/controls",
            "_model_module_version": "1.5.0",
            "value": 10,
            "_view_count": null,
            "_view_module_version": "1.5.0",
            "orientation": "horizontal",
            "min": 0,
            "description_tooltip": null,
            "_model_module": "@jupyter-widgets/controls",
            "layout": "IPY_MODEL_c83e2955fe7444aab329e8778a041b1d"
          }
        },
        "8f61aa968a134ae3820f22d5dc2553d7": {
          "model_module": "@jupyter-widgets/controls",
          "model_name": "HTMLModel",
          "state": {
            "_view_name": "HTMLView",
            "style": "IPY_MODEL_947145de8a8d4e41ab64d2fb75dc2256",
            "_dom_classes": [],
            "description": "",
            "_model_name": "HTMLModel",
            "placeholder": "​",
            "_view_module": "@jupyter-widgets/controls",
            "_model_module_version": "1.5.0",
            "value": " 10/10 [16:26&lt;00:00, 98.66s/it]",
            "_view_count": null,
            "_view_module_version": "1.5.0",
            "description_tooltip": null,
            "_model_module": "@jupyter-widgets/controls",
            "layout": "IPY_MODEL_30fccdc9ee3640fea4b86aa8a8324413"
          }
        },
        "09fa3ba7587a4b6c98e00c1cac0ce0e3": {
          "model_module": "@jupyter-widgets/controls",
          "model_name": "ProgressStyleModel",
          "state": {
            "_view_name": "StyleView",
            "_model_name": "ProgressStyleModel",
            "description_width": "initial",
            "_view_module": "@jupyter-widgets/base",
            "_model_module_version": "1.5.0",
            "_view_count": null,
            "_view_module_version": "1.2.0",
            "bar_color": null,
            "_model_module": "@jupyter-widgets/controls"
          }
        },
        "c83e2955fe7444aab329e8778a041b1d": {
          "model_module": "@jupyter-widgets/base",
          "model_name": "LayoutModel",
          "state": {
            "_view_name": "LayoutView",
            "grid_template_rows": null,
            "right": null,
            "justify_content": null,
            "_view_module": "@jupyter-widgets/base",
            "overflow": null,
            "_model_module_version": "1.2.0",
            "_view_count": null,
            "flex_flow": null,
            "width": null,
            "min_width": null,
            "border": null,
            "align_items": null,
            "bottom": null,
            "_model_module": "@jupyter-widgets/base",
            "top": null,
            "grid_column": null,
            "overflow_y": null,
            "overflow_x": null,
            "grid_auto_flow": null,
            "grid_area": null,
            "grid_template_columns": null,
            "flex": null,
            "_model_name": "LayoutModel",
            "justify_items": null,
            "grid_row": null,
            "max_height": null,
            "align_content": null,
            "visibility": null,
            "align_self": null,
            "height": null,
            "min_height": null,
            "padding": null,
            "grid_auto_rows": null,
            "grid_gap": null,
            "max_width": null,
            "order": null,
            "_view_module_version": "1.2.0",
            "grid_template_areas": null,
            "object_position": null,
            "object_fit": null,
            "grid_auto_columns": null,
            "margin": null,
            "display": null,
            "left": null
          }
        },
        "947145de8a8d4e41ab64d2fb75dc2256": {
          "model_module": "@jupyter-widgets/controls",
          "model_name": "DescriptionStyleModel",
          "state": {
            "_view_name": "StyleView",
            "_model_name": "DescriptionStyleModel",
            "description_width": "",
            "_view_module": "@jupyter-widgets/base",
            "_model_module_version": "1.5.0",
            "_view_count": null,
            "_view_module_version": "1.2.0",
            "_model_module": "@jupyter-widgets/controls"
          }
        },
        "30fccdc9ee3640fea4b86aa8a8324413": {
          "model_module": "@jupyter-widgets/base",
          "model_name": "LayoutModel",
          "state": {
            "_view_name": "LayoutView",
            "grid_template_rows": null,
            "right": null,
            "justify_content": null,
            "_view_module": "@jupyter-widgets/base",
            "overflow": null,
            "_model_module_version": "1.2.0",
            "_view_count": null,
            "flex_flow": null,
            "width": null,
            "min_width": null,
            "border": null,
            "align_items": null,
            "bottom": null,
            "_model_module": "@jupyter-widgets/base",
            "top": null,
            "grid_column": null,
            "overflow_y": null,
            "overflow_x": null,
            "grid_auto_flow": null,
            "grid_area": null,
            "grid_template_columns": null,
            "flex": null,
            "_model_name": "LayoutModel",
            "justify_items": null,
            "grid_row": null,
            "max_height": null,
            "align_content": null,
            "visibility": null,
            "align_self": null,
            "height": null,
            "min_height": null,
            "padding": null,
            "grid_auto_rows": null,
            "grid_gap": null,
            "max_width": null,
            "order": null,
            "_view_module_version": "1.2.0",
            "grid_template_areas": null,
            "object_position": null,
            "object_fit": null,
            "grid_auto_columns": null,
            "margin": null,
            "display": null,
            "left": null
          }
        }
      }
    }
  },
  "cells": [
    {
      "cell_type": "code",
      "metadata": {
        "colab": {
          "base_uri": "https://localhost:8080/"
        },
        "id": "vhI2BYPAYB7p",
        "outputId": "ad0e4730-303b-4c5c-af31-fdf037fbcebc"
      },
      "source": [
        "!apt install libomp-dev\n",
        "!pip install faiss"
      ],
      "execution_count": 1,
      "outputs": [
        {
          "output_type": "stream",
          "text": [
            "Reading package lists... Done\n",
            "Building dependency tree       \n",
            "Reading state information... Done\n",
            "The following additional packages will be installed:\n",
            "  libomp5\n",
            "Suggested packages:\n",
            "  libomp-doc\n",
            "The following NEW packages will be installed:\n",
            "  libomp-dev libomp5\n",
            "0 upgraded, 2 newly installed, 0 to remove and 30 not upgraded.\n",
            "Need to get 239 kB of archives.\n",
            "After this operation, 804 kB of additional disk space will be used.\n",
            "Get:1 http://archive.ubuntu.com/ubuntu bionic/universe amd64 libomp5 amd64 5.0.1-1 [234 kB]\n",
            "Get:2 http://archive.ubuntu.com/ubuntu bionic/universe amd64 libomp-dev amd64 5.0.1-1 [5,088 B]\n",
            "Fetched 239 kB in 1s (410 kB/s)\n",
            "Selecting previously unselected package libomp5:amd64.\n",
            "(Reading database ... 160980 files and directories currently installed.)\n",
            "Preparing to unpack .../libomp5_5.0.1-1_amd64.deb ...\n",
            "Unpacking libomp5:amd64 (5.0.1-1) ...\n",
            "Selecting previously unselected package libomp-dev.\n",
            "Preparing to unpack .../libomp-dev_5.0.1-1_amd64.deb ...\n",
            "Unpacking libomp-dev (5.0.1-1) ...\n",
            "Setting up libomp5:amd64 (5.0.1-1) ...\n",
            "Setting up libomp-dev (5.0.1-1) ...\n",
            "Processing triggers for libc-bin (2.27-3ubuntu1.2) ...\n",
            "/sbin/ldconfig.real: /usr/local/lib/python3.7/dist-packages/ideep4py/lib/libmkldnn.so.0 is not a symbolic link\n",
            "\n",
            "Collecting faiss\n",
            "\u001b[?25l  Downloading https://files.pythonhosted.org/packages/ef/2e/dc5697e9ff6f313dcaf3afe5ca39d7d8334114cbabaed069d0026bbc3c61/faiss-1.5.3-cp37-cp37m-manylinux1_x86_64.whl (4.7MB)\n",
            "\u001b[K     |████████████████████████████████| 4.7MB 17.1MB/s \n",
            "\u001b[?25hRequirement already satisfied: numpy in /usr/local/lib/python3.7/dist-packages (from faiss) (1.19.5)\n",
            "Installing collected packages: faiss\n",
            "Successfully installed faiss-1.5.3\n"
          ],
          "name": "stdout"
        }
      ]
    },
    {
      "cell_type": "code",
      "metadata": {
        "id": "LDpjE6JpXrw-"
      },
      "source": [
        "import faiss\n",
        "import numpy as np\n",
        "import pandas as pd\n",
        "import matplotlib.pyplot as plt\n",
        "import seaborn as sns\n",
        "import struct\n",
        "import time\n",
        "import random\n",
        "\n",
        "from tqdm.auto import tqdm\n",
        "\n",
        "from typing import List, Dict, Tuple, Set, Sequence, Any, Union, Optional"
      ],
      "execution_count": 2,
      "outputs": []
    },
    {
      "cell_type": "code",
      "metadata": {
        "id": "HsL-4to3Y5uK"
      },
      "source": [
        "SIFT_DOWNLOAD_PATH = 'ftp://ftp.irisa.fr/local/texmex/corpus/sift.tar.gz'\n",
        "GIST_DOWNLOAD_PATH = 'ftp://ftp.irisa.fr/local/texmex/corpus/gist.tar.gz'"
      ],
      "execution_count": 3,
      "outputs": []
    },
    {
      "cell_type": "code",
      "metadata": {
        "id": "JJUb1mddZRcT",
        "colab": {
          "base_uri": "https://localhost:8080/"
        },
        "outputId": "baf32ef8-3b07-47a7-dda3-daff1313d924"
      },
      "source": [
        "!wget $SIFT_DOWNLOAD_PATH\n",
        "!wget $GIST_DOWNLOAD_PATH"
      ],
      "execution_count": 4,
      "outputs": [
        {
          "output_type": "stream",
          "text": [
            "--2021-04-07 18:05:50--  ftp://ftp.irisa.fr/local/texmex/corpus/sift.tar.gz\n",
            "           => ‘sift.tar.gz’\n",
            "Resolving ftp.irisa.fr (ftp.irisa.fr)... 131.254.254.45, 2001:660:7303:254::45\n",
            "Connecting to ftp.irisa.fr (ftp.irisa.fr)|131.254.254.45|:21... connected.\n",
            "Logging in as anonymous ... Logged in!\n",
            "==> SYST ... done.    ==> PWD ... done.\n",
            "==> TYPE I ... done.  ==> CWD (1) /local/texmex/corpus ... done.\n",
            "==> SIZE sift.tar.gz ... 168280445\n",
            "==> PASV ... done.    ==> RETR sift.tar.gz ... done.\n",
            "Length: 168280445 (160M) (unauthoritative)\n",
            "\n",
            "sift.tar.gz         100%[===================>] 160.48M  32.0MB/s    in 5.6s    \n",
            "\n",
            "2021-04-07 18:05:57 (28.9 MB/s) - ‘sift.tar.gz’ saved [168280445]\n",
            "\n",
            "--2021-04-07 18:05:57--  ftp://ftp.irisa.fr/local/texmex/corpus/gist.tar.gz\n",
            "           => ‘gist.tar.gz’\n",
            "Resolving ftp.irisa.fr (ftp.irisa.fr)... 131.254.254.45, 2001:660:7303:254::45\n",
            "Connecting to ftp.irisa.fr (ftp.irisa.fr)|131.254.254.45|:21... connected.\n",
            "Logging in as anonymous ... Logged in!\n",
            "==> SYST ... done.    ==> PWD ... done.\n",
            "==> TYPE I ... done.  ==> CWD (1) /local/texmex/corpus ... done.\n",
            "==> SIZE gist.tar.gz ... 2740172684\n",
            "==> PASV ... done.    ==> RETR gist.tar.gz ... done.\n",
            "Length: 2740172684 (2.6G) (unauthoritative)\n",
            "\n",
            "gist.tar.gz         100%[===================>]   2.55G  32.3MB/s    in 81s     \n",
            "\n",
            "2021-04-07 18:07:20 (32.1 MB/s) - ‘gist.tar.gz’ saved [2740172684]\n",
            "\n"
          ],
          "name": "stdout"
        }
      ]
    },
    {
      "cell_type": "code",
      "metadata": {
        "id": "qjVXZ4_bZ0LR"
      },
      "source": [
        "!tar -xf sift.tar.gz && rm sift.tar.gz\n",
        "!tar -xf gist.tar.gz && rm gist.tar.gz"
      ],
      "execution_count": 5,
      "outputs": []
    },
    {
      "cell_type": "code",
      "metadata": {
        "id": "gEXmXc5BanZZ"
      },
      "source": [
        "def ivecs_read(fname):\n",
        "    a = np.fromfile(fname, dtype=np.int32)\n",
        "    d = a[0]\n",
        "    return a.reshape(-1, d + 1)[:, 1:].copy()\n",
        "\n",
        "def fvecs_read(fname):\n",
        "    return ivecs_read(fname).view(np.float32)\n",
        "\n"
      ],
      "execution_count": 6,
      "outputs": []
    },
    {
      "cell_type": "code",
      "metadata": {
        "id": "qYExotMmkMxQ"
      },
      "source": [
        "def recall(y_pred, y_true, top_k=None):\n",
        "\n",
        "    def isin1d(x):\n",
        "        x, y = np.split(x, 2)\n",
        "        return np.isin(x, y, assume_unique=True)\n",
        "\n",
        "    if top_k is None or top_k > y_pred.shape[1]:\n",
        "        top_k = y_pred.shape[1]\n",
        "    return np.sum(np.apply_along_axis(isin1d, 1, \n",
        "                  np.concatenate((y_pred[:, :top_k], y_true[:, :top_k]), \n",
        "                                 axis=1))) / (len(y_pred) * top_k)\n"
      ],
      "execution_count": 7,
      "outputs": []
    },
    {
      "cell_type": "markdown",
      "metadata": {
        "id": "WbvASjuEfHmb"
      },
      "source": [
        "# FAISS TESTING"
      ]
    },
    {
      "cell_type": "code",
      "metadata": {
        "colab": {
          "base_uri": "https://localhost:8080/"
        },
        "id": "GKW5uXTv1GnT",
        "outputId": "4193b2f0-27ec-447d-c047-9d7f9b542dd5"
      },
      "source": [
        "!cat /proc/cpuinfo \n",
        "!cat /proc/meminfo"
      ],
      "execution_count": 8,
      "outputs": [
        {
          "output_type": "stream",
          "text": [
            "processor\t: 0\n",
            "vendor_id\t: GenuineIntel\n",
            "cpu family\t: 6\n",
            "model\t\t: 79\n",
            "model name\t: Intel(R) Xeon(R) CPU @ 2.20GHz\n",
            "stepping\t: 0\n",
            "microcode\t: 0x1\n",
            "cpu MHz\t\t: 2200.152\n",
            "cache size\t: 56320 KB\n",
            "physical id\t: 0\n",
            "siblings\t: 2\n",
            "core id\t\t: 0\n",
            "cpu cores\t: 1\n",
            "apicid\t\t: 0\n",
            "initial apicid\t: 0\n",
            "fpu\t\t: yes\n",
            "fpu_exception\t: yes\n",
            "cpuid level\t: 13\n",
            "wp\t\t: yes\n",
            "flags\t\t: fpu vme de pse tsc msr pae mce cx8 apic sep mtrr pge mca cmov pat pse36 clflush mmx fxsr sse sse2 ss ht syscall nx pdpe1gb rdtscp lm constant_tsc rep_good nopl xtopology nonstop_tsc cpuid tsc_known_freq pni pclmulqdq ssse3 fma cx16 pcid sse4_1 sse4_2 x2apic movbe popcnt aes xsave avx f16c rdrand hypervisor lahf_lm abm 3dnowprefetch invpcid_single ssbd ibrs ibpb stibp fsgsbase tsc_adjust bmi1 hle avx2 smep bmi2 erms invpcid rtm rdseed adx smap xsaveopt arat md_clear arch_capabilities\n",
            "bugs\t\t: cpu_meltdown spectre_v1 spectre_v2 spec_store_bypass l1tf mds swapgs taa\n",
            "bogomips\t: 4400.30\n",
            "clflush size\t: 64\n",
            "cache_alignment\t: 64\n",
            "address sizes\t: 46 bits physical, 48 bits virtual\n",
            "power management:\n",
            "\n",
            "processor\t: 1\n",
            "vendor_id\t: GenuineIntel\n",
            "cpu family\t: 6\n",
            "model\t\t: 79\n",
            "model name\t: Intel(R) Xeon(R) CPU @ 2.20GHz\n",
            "stepping\t: 0\n",
            "microcode\t: 0x1\n",
            "cpu MHz\t\t: 2200.152\n",
            "cache size\t: 56320 KB\n",
            "physical id\t: 0\n",
            "siblings\t: 2\n",
            "core id\t\t: 0\n",
            "cpu cores\t: 1\n",
            "apicid\t\t: 1\n",
            "initial apicid\t: 1\n",
            "fpu\t\t: yes\n",
            "fpu_exception\t: yes\n",
            "cpuid level\t: 13\n",
            "wp\t\t: yes\n",
            "flags\t\t: fpu vme de pse tsc msr pae mce cx8 apic sep mtrr pge mca cmov pat pse36 clflush mmx fxsr sse sse2 ss ht syscall nx pdpe1gb rdtscp lm constant_tsc rep_good nopl xtopology nonstop_tsc cpuid tsc_known_freq pni pclmulqdq ssse3 fma cx16 pcid sse4_1 sse4_2 x2apic movbe popcnt aes xsave avx f16c rdrand hypervisor lahf_lm abm 3dnowprefetch invpcid_single ssbd ibrs ibpb stibp fsgsbase tsc_adjust bmi1 hle avx2 smep bmi2 erms invpcid rtm rdseed adx smap xsaveopt arat md_clear arch_capabilities\n",
            "bugs\t\t: cpu_meltdown spectre_v1 spectre_v2 spec_store_bypass l1tf mds swapgs taa\n",
            "bogomips\t: 4400.30\n",
            "clflush size\t: 64\n",
            "cache_alignment\t: 64\n",
            "address sizes\t: 46 bits physical, 48 bits virtual\n",
            "power management:\n",
            "\n",
            "MemTotal:       13333568 kB\n",
            "MemFree:          945912 kB\n",
            "MemAvailable:   12457532 kB\n",
            "Buffers:           81128 kB\n",
            "Cached:         11289616 kB\n",
            "SwapCached:            0 kB\n",
            "Active:           854120 kB\n",
            "Inactive:       10951228 kB\n",
            "Active(anon):     407716 kB\n",
            "Inactive(anon):      368 kB\n",
            "Active(file):     446404 kB\n",
            "Inactive(file): 10950860 kB\n",
            "Unevictable:           0 kB\n",
            "Mlocked:               0 kB\n",
            "SwapTotal:             0 kB\n",
            "SwapFree:              0 kB\n",
            "Dirty:             64368 kB\n",
            "Writeback:          6224 kB\n",
            "AnonPages:        434456 kB\n",
            "Mapped:           218520 kB\n",
            "Shmem:               984 kB\n",
            "Slab:             481000 kB\n",
            "SReclaimable:     439860 kB\n",
            "SUnreclaim:        41140 kB\n",
            "KernelStack:        4208 kB\n",
            "PageTables:         5940 kB\n",
            "NFS_Unstable:          0 kB\n",
            "Bounce:                0 kB\n",
            "WritebackTmp:          0 kB\n",
            "CommitLimit:     6666784 kB\n",
            "Committed_AS:    3147548 kB\n",
            "VmallocTotal:   34359738367 kB\n",
            "VmallocUsed:           0 kB\n",
            "VmallocChunk:          0 kB\n",
            "Percpu:             1024 kB\n",
            "AnonHugePages:         0 kB\n",
            "ShmemHugePages:        0 kB\n",
            "ShmemPmdMapped:        0 kB\n",
            "HugePages_Total:       0\n",
            "HugePages_Free:        0\n",
            "HugePages_Rsvd:        0\n",
            "HugePages_Surp:        0\n",
            "Hugepagesize:       2048 kB\n",
            "Hugetlb:               0 kB\n",
            "DirectMap4k:       85196 kB\n",
            "DirectMap2M:     4108288 kB\n",
            "DirectMap1G:    11534336 kB\n"
          ],
          "name": "stdout"
        }
      ]
    },
    {
      "cell_type": "markdown",
      "metadata": {
        "id": "8qUPuw1xyBtT"
      },
      "source": [
        "#### Constants\n"
      ]
    },
    {
      "cell_type": "code",
      "metadata": {
        "id": "x6hglfTGyD5v"
      },
      "source": [
        "SAMPLE_RATE = 0.01\n",
        "N_CLUSTERS = 100\n",
        "MAX_TOP_K = 100\n"
      ],
      "execution_count": 9,
      "outputs": []
    },
    {
      "cell_type": "markdown",
      "metadata": {
        "id": "rU4jV5V7xiYZ"
      },
      "source": [
        "### Helper Functions"
      ]
    },
    {
      "cell_type": "code",
      "metadata": {
        "id": "5NcOqVjxxlRh"
      },
      "source": [
        "def seed_everything(seed):\n",
        "    np.random.seed(seed)\n",
        "    random.seed(seed)\n",
        "\n",
        "seed_everything(42)"
      ],
      "execution_count": 10,
      "outputs": []
    },
    {
      "cell_type": "code",
      "metadata": {
        "id": "F_5ran-Wx6GI"
      },
      "source": [
        "def sample_learn(base: np.ndarray, sample_rate=SAMPLE_RATE):\n",
        "    learning_len = int(base.shape[0] * SAMPLE_RATE)    \n",
        "    ln_indexes = np.random.choice(base.shape[0], learning_len, replace=False)\n",
        "    return base[ln_indexes, :]"
      ],
      "execution_count": 11,
      "outputs": []
    },
    {
      "cell_type": "code",
      "metadata": {
        "id": "N7HCBTmu14z5"
      },
      "source": [
        "def train(learn, base, n_clusters):\n",
        "    \"\"\"\n",
        "    base: base queries from SiFT/GiST dataset\n",
        "    n_clusters: number of clusters for kMeans \n",
        "    \"\"\"\n",
        "    D = base.shape[1]\n",
        "    quantizer = faiss.IndexFlatL2(D)\n",
        "    index = faiss.IndexIVFFlat(quantizer, D, n_clusters, faiss.METRIC_L2)\n",
        "    assert not index.is_trained\n",
        "    build_start = time.time() \n",
        "    index.train(learn)\n",
        "    assert index.is_trained\n",
        "    index.add(base)\n",
        "    build_end = time.time()\n",
        "    return (index, build_end - build_start)\n"
      ],
      "execution_count": 32,
      "outputs": []
    },
    {
      "cell_type": "code",
      "metadata": {
        "id": "G9j94oJ4xnRr"
      },
      "source": [
        "def search(index, query, gt, top_k=MAX_TOP_K, n_probe=1):\n",
        "    \"\"\"\n",
        "    index: trained IVFFlat Index\n",
        "    query: query for nearest neighbour search \n",
        "    gt: ground-truth answers for NNS\n",
        "    top_k: top_k for correct search working\n",
        "    n_probe: number of chosen clusters \n",
        "    \"\"\"\n",
        "    assert index.is_trained\n",
        "    NQ = query.shape[0]\n",
        "    index.nprobe = n_probe\n",
        "    s_start = time.time()\n",
        "    distances, indexes = index.search(query, top_k)\n",
        "    s_end = time.time()\n",
        "    rec = recall(indexes, gt, top_k)\n",
        "    return (rec, (s_end - s_start) * 1000.0 / NQ)"
      ],
      "execution_count": 13,
      "outputs": []
    },
    {
      "cell_type": "code",
      "metadata": {
        "id": "33v_mkuk12cM"
      },
      "source": [
        "def get_and_save_stats(n_probes: List[int],\n",
        "                        n_clusters: List[int],\n",
        "                        base: np.ndarray,\n",
        "                        learn: np.ndarray,\n",
        "                        query: np.ndarray,\n",
        "                        ground_truth: np.ndarray,\n",
        "                        filename_prefix: str):\n",
        "    df_s = []\n",
        "    for n_cl in n_clusters:\n",
        "        df = pd.DataFrame({'n_probes': [], 'build_time, s': None, \n",
        "                       'query_time, ms': [], 'R@1': [], 'R@100': []})\n",
        "        index, build_time = train(learn=learn, base=base, n_clusters=n_cl)\n",
        "        for probe in tqdm(n_probes):\n",
        "            rec_1, s_1_t = search(index, query, ground_truth, \n",
        "                                  top_k=1, n_probe=probe)\n",
        "            rec_100, s_100_t = search(index, query, ground_truth, \n",
        "                                      top_k=100, n_probe=probe)\n",
        "            row = pd.Series({'n_probes': probe, 'build_time': build_time, \n",
        "                         'query_time, ms': s_100_t, 'R@1': rec_1, 'R@100': rec_100})\n",
        "            df = df.append(row, ignore_index=True)\n",
        "        filename = f'{filename_prefix}_cc_{n_cl}.csv'\n",
        "        df.to_csv(filename)\n",
        "        df_s.append(df)\n",
        "    return df_s\n"
      ],
      "execution_count": 25,
      "outputs": []
    },
    {
      "cell_type": "markdown",
      "metadata": {
        "id": "lEHOE1UEfKHG"
      },
      "source": [
        "# SIFT"
      ]
    },
    {
      "cell_type": "code",
      "metadata": {
        "id": "6Wn4qwkyLIBD"
      },
      "source": [
        "sift_base = fvecs_read('./sift/sift_base.fvecs')\n",
        "sift_gt = ivecs_read('./sift/sift_groundtruth.ivecs')\n",
        "sift_learn = fvecs_read('./sift/sift_learn.fvecs')\n",
        "sift_query = fvecs_read('./sift/sift_query.fvecs')"
      ],
      "execution_count": 15,
      "outputs": []
    },
    {
      "cell_type": "code",
      "metadata": {
        "id": "r85pIeDrfGst",
        "colab": {
          "base_uri": "https://localhost:8080/"
        },
        "outputId": "8c30ed1f-394d-48ce-d53b-015600f8389d"
      },
      "source": [
        "sift_learn = sample_learn(sift_base)\n",
        "sift_learn.shape"
      ],
      "execution_count": 16,
      "outputs": [
        {
          "output_type": "execute_result",
          "data": {
            "text/plain": [
              "(10000, 128)"
            ]
          },
          "metadata": {
            "tags": []
          },
          "execution_count": 16
        }
      ]
    },
    {
      "cell_type": "code",
      "metadata": {
        "id": "eYKuSN7TLhqS"
      },
      "source": [
        "SIFT_N_PROBES = [1, 2, 3, 4, 5, 7, 10, 15, 20, 30]\n",
        "SIFT_N_CLUSTERS = [100, 200]\n",
        "SIFT_PREFIX = 'sift'"
      ],
      "execution_count": 17,
      "outputs": []
    },
    {
      "cell_type": "code",
      "metadata": {
        "id": "pPI2oAIdyVjC",
        "colab": {
          "base_uri": "https://localhost:8080/",
          "height": 114,
          "referenced_widgets": [
            "82afa6c90b83412892f89f8bcb65a42e",
            "c35227073cea4015b792e3a6df788be3",
            "920f6267c93440b6b2829fe42cc470af",
            "06a7be9a1f3e4fc5b3625c07db3d6630",
            "ed00a44a93a44e189727dd076a4bfb72",
            "8a639173c7a34ad19213904e4e73b996",
            "e532b0f5bf6a41db84c1b46fde9f9c19",
            "fe2b2bce0a7d47989efd30ade66b04cd",
            "479cad68d98949f8a96212b5b19346de",
            "4068da9744724f2e8f68843265c7af3e",
            "a287509e102f4ae190a6a73e186d357d",
            "cceedf74b6a8498e821858910af82131",
            "34d8d670bf7241fbbfcf723c39c38dfb",
            "179e270564f842f699ee259f2baf1e38",
            "798184c634ca4a79b2b8eabde778a80c",
            "483fad1ce0124209a94575812030ee94"
          ]
        },
        "outputId": "d0ce879e-0a67-48c9-d28b-dc5778130149"
      },
      "source": [
        "sift_stats = get_and_save_stats(SIFT_N_PROBES, \n",
        "                                SIFT_N_CLUSTERS, \n",
        "                                sift_base, \n",
        "                                sift_learn, \n",
        "                                sift_query, \n",
        "                                sift_gt, \n",
        "                                SIFT_PREFIX)"
      ],
      "execution_count": 26,
      "outputs": [
        {
          "output_type": "display_data",
          "data": {
            "application/vnd.jupyter.widget-view+json": {
              "model_id": "82afa6c90b83412892f89f8bcb65a42e",
              "version_minor": 0,
              "version_major": 2
            },
            "text/plain": [
              "HBox(children=(FloatProgress(value=0.0, max=10.0), HTML(value='')))"
            ]
          },
          "metadata": {
            "tags": []
          }
        },
        {
          "output_type": "stream",
          "text": [
            "\n"
          ],
          "name": "stdout"
        },
        {
          "output_type": "display_data",
          "data": {
            "application/vnd.jupyter.widget-view+json": {
              "model_id": "479cad68d98949f8a96212b5b19346de",
              "version_minor": 0,
              "version_major": 2
            },
            "text/plain": [
              "HBox(children=(FloatProgress(value=0.0, max=10.0), HTML(value='')))"
            ]
          },
          "metadata": {
            "tags": []
          }
        },
        {
          "output_type": "stream",
          "text": [
            "\n"
          ],
          "name": "stdout"
        }
      ]
    },
    {
      "cell_type": "code",
      "metadata": {
        "colab": {
          "base_uri": "https://localhost:8080/",
          "height": 525
        },
        "id": "6DuvMIQNJZiQ",
        "outputId": "2d353c03-dee5-4f98-a5c5-fe6c8ed11fe5"
      },
      "source": [
        "def visualize_sift():\n",
        "    s_100 = pd.read_csv('./sift_cc_100.csv')\n",
        "    s_200 = pd.read_csv('./sift_cc_200.csv')\n",
        "    plt.figure(figsize=(10, 8))\n",
        "\n",
        "    plt.plot(s_100['query_time, ms'], s_100['R@1'], 'o-c',  label='cc=100')\n",
        "    plt.plot(s_200['query_time, ms'], s_200['R@1'], 'o-r', label='cc=200')\n",
        "    plt.xscale('log')\n",
        "    plt.title('Plot of top-1 recall vs query time in ms', fontsize=18)\n",
        "    plt.legend(fontsize=14)\n",
        "    plt.xlabel('Query time, ms', fontsize=14)\n",
        "    plt.ylabel('Top-1 Recall', fontsize=14)\n",
        "    plt.grid(ls=':')\n",
        "\n",
        "visualize_sift()"
      ],
      "execution_count": 50,
      "outputs": [
        {
          "output_type": "display_data",
          "data": {
            "image/png": "[encoded data removed]",
            "text/plain": [
              "<Figure size 720x576 with 1 Axes>"
            ]
          },
          "metadata": {
            "tags": [],
            "needs_background": "light"
          }
        }
      ]
    },
    {
      "cell_type": "markdown",
      "metadata": {
        "id": "6VTeTmw72Zdl"
      },
      "source": [
        "# GIST"
      ]
    },
    {
      "cell_type": "code",
      "metadata": {
        "id": "crL67c-AQ-Vl"
      },
      "source": [
        "gist_base = fvecs_read('./gist/gist_base.fvecs')\n",
        "gist_gt = ivecs_read('./gist/gist_groundtruth.ivecs')\n",
        "gist_learn = fvecs_read('./gist/gist_learn.fvecs')\n",
        "gist_query = fvecs_read('./gist/gist_query.fvecs')"
      ],
      "execution_count": 27,
      "outputs": []
    },
    {
      "cell_type": "code",
      "metadata": {
        "colab": {
          "base_uri": "https://localhost:8080/"
        },
        "id": "LlMF1MET2qTk",
        "outputId": "0a69b384-351f-4f75-a203-5c4de59e371e"
      },
      "source": [
        "gist_learn = sample_learn(gist_base)\n",
        "gist_learn.shape"
      ],
      "execution_count": 28,
      "outputs": [
        {
          "output_type": "execute_result",
          "data": {
            "text/plain": [
              "(10000, 960)"
            ]
          },
          "metadata": {
            "tags": []
          },
          "execution_count": 28
        }
      ]
    },
    {
      "cell_type": "code",
      "metadata": {
        "id": "TGmzKE-Y2yyX"
      },
      "source": [
        "GIST_N_PROBES = [1, 2, 3, 4, 5, 7, 10, 15, 20, 30]\n",
        "GIST_N_CLUSTERS = [100, 200]\n",
        "GIST_PREFIX = 'gist'"
      ],
      "execution_count": 29,
      "outputs": []
    },
    {
      "cell_type": "code",
      "metadata": {
        "colab": {
          "base_uri": "https://localhost:8080/",
          "height": 114,
          "referenced_widgets": [
            "4fcbe670e9e74f68aecc7c6a1d00ba7f",
            "c54646fe94484378a61fe2c17a8fbcf9",
            "7437c5d153e0409f9ac54e9ea51e6760",
            "8c81b0e39cf2478a807f6694cb097336",
            "58aa3edf483246ec8899c12029b5c798",
            "98f9fcac921f46f79784d548d71be2da",
            "09e28ab9ed944b33adcf952adc75fe31",
            "7c3846d3284d4be7ad935667598870e4",
            "aab06f13bc05439c811d90b40fb15be0",
            "a27aaea86bbe4f49821a43ae23ce5dfa",
            "fca0d2564bae4fcca620b50b5cdc30ac",
            "8f61aa968a134ae3820f22d5dc2553d7",
            "09fa3ba7587a4b6c98e00c1cac0ce0e3",
            "c83e2955fe7444aab329e8778a041b1d",
            "947145de8a8d4e41ab64d2fb75dc2256",
            "30fccdc9ee3640fea4b86aa8a8324413"
          ]
        },
        "id": "Ob3Cxuh22_pD",
        "outputId": "495dcdee-5c44-49da-e113-f5f4c160a7a5"
      },
      "source": [
        "gist_stats = get_and_save_stats(GIST_N_PROBES, \n",
        "                                GIST_N_CLUSTERS, \n",
        "                                gist_base, \n",
        "                                gist_learn, \n",
        "                                gist_query, \n",
        "                                gist_gt, \n",
        "                                GIST_PREFIX)"
      ],
      "execution_count": 33,
      "outputs": [
        {
          "output_type": "display_data",
          "data": {
            "application/vnd.jupyter.widget-view+json": {
              "model_id": "4fcbe670e9e74f68aecc7c6a1d00ba7f",
              "version_minor": 0,
              "version_major": 2
            },
            "text/plain": [
              "HBox(children=(FloatProgress(value=0.0, max=10.0), HTML(value='')))"
            ]
          },
          "metadata": {
            "tags": []
          }
        },
        {
          "output_type": "stream",
          "text": [
            "\n"
          ],
          "name": "stdout"
        },
        {
          "output_type": "display_data",
          "data": {
            "application/vnd.jupyter.widget-view+json": {
              "model_id": "aab06f13bc05439c811d90b40fb15be0",
              "version_minor": 0,
              "version_major": 2
            },
            "text/plain": [
              "HBox(children=(FloatProgress(value=0.0, max=10.0), HTML(value='')))"
            ]
          },
          "metadata": {
            "tags": []
          }
        },
        {
          "output_type": "stream",
          "text": [
            "\n"
          ],
          "name": "stdout"
        }
      ]
    },
    {
      "cell_type": "code",
      "metadata": {
        "colab": {
          "base_uri": "https://localhost:8080/",
          "height": 525
        },
        "id": "gtT0VrvKJUEP",
        "outputId": "03fce5a9-f4a8-40de-dde5-d3bbb772bd1c"
      },
      "source": [
        "def visualize_gift():\n",
        "    g_100 = pd.read_csv('./gist_cc_100.csv')\n",
        "    g_200 = pd.read_csv('./gist_cc_200.csv')\n",
        "    plt.figure(figsize=(10, 8))\n",
        "\n",
        "    plt.plot(g_100['query_time, ms'], g_100['R@1'], 'o-c',  label='cc=100')\n",
        "    plt.plot(g_200['query_time, ms'], g_200['R@1'], 'o-r', label='cc=200')\n",
        "    plt.xscale('log')\n",
        "    plt.title('Plot of top-1 recall vs query time in ms', fontsize=18)\n",
        "    plt.legend(fontsize=14)\n",
        "    plt.xlabel('Query time, ms', fontsize=14)\n",
        "    plt.ylabel('Top-1 Recall', fontsize=14)\n",
        "    plt.grid(ls=':')\n",
        "\n",
        "visualize_gift()"
      ],
      "execution_count": 53,
      "outputs": [
        {
          "output_type": "display_data",
          "data": {
            "image/png": "[encoded data removed]",
            "text/plain": [
              "<Figure size 720x576 with 1 Axes>"
            ]
          },
          "metadata": {
            "tags": [],
            "needs_background": "light"
          }
        }
      ]
    }
  ]
}